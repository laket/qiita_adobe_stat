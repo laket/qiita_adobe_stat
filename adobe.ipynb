{
 "cells": [
  {
   "cell_type": "markdown",
   "source": [
    "# A/Bテストの有意差検定\n",
    "二項分布が近似的に正規分布に近づく性質を利用し、A/Bテストの有意差検定と検定力の計算を行う。\n",
    "\n"
   ],
   "metadata": {
    "collapsed": false,
    "pycharm": {
     "name": "#%% md\n"
    }
   }
  },
  {
   "cell_type": "code",
   "execution_count": 2,
   "metadata": {
    "collapsed": true
   },
   "outputs": [],
   "source": [
    "import numpy as np\n",
    "import scipy as sp\n",
    "import scipy.stats\n",
    "\n",
    "import matplotlib.pylab as plt\n",
    "import seaborn as sns"
   ]
  },
  {
   "cell_type": "markdown",
   "source": [
    "# 有意差検定\n",
    "まずは、クリック列を有意差検定する例を示す。\n",
    "\n",
    "{X}, {Y}をそれぞれサイトX,Yがクリックされたかどうかを表す0,1列とし、それぞれのサイトのクリック率に差があるかどうかを検定する。\n",
    "\n",
    "サイトX, Yのクリック率を$p_1, p_2$とし、\n",
    "\n",
    "- 帰無仮説$H_0$: $p_1 = p_2$\n",
    "- 対立仮説$H_1$: $p_1 \\neq p_2$\n",
    "\n",
    "とする。帰無仮説が棄却されるとき、対立仮説が成り立ちサイトX, Yのクリック率に有意差があることがわかる。"
   ],
   "metadata": {
    "collapsed": false,
    "pycharm": {
     "name": "#%% md\n"
    }
   }
  },
  {
   "cell_type": "code",
   "execution_count": 3,
   "outputs": [
    {
     "name": "stdout",
     "output_type": "stream",
     "text": [
      "t:-0.253 lower:-1.960 upper:1.960\n",
      "有意差なし\n"
     ]
    }
   ],
   "source": [
    "# 真のclick rate\n",
    "p1, p2 = 0.08, 0.08\n",
    "# サンプル数\n",
    "n1, n2 = 4000, 5000\n",
    "# 有意水準\n",
    "alpha = 0.05\n",
    "\n",
    "# 観測値\n",
    "X = sp.stats.bernoulli.rvs(size=n1, p=p1)\n",
    "Y = sp.stats.bernoulli.rvs(size=n2, p=p2)\n",
    "p1_ = X.mean()\n",
    "p2_ = Y.mean()\n",
    "\n",
    "# 検定統計量\n",
    "u = (p1_ - p2_) / np.sqrt(p1_*(1-p1_)/n1 + p2_*(1-p2_)/n2)\n",
    "# 検定統計量が従う分布\n",
    "lower, upper = sp.stats.norm.interval(alpha=1-alpha)\n",
    "\n",
    "print (f\"t:{u:.3f} lower:{lower:.3f} upper:{upper:.3f}\")\n",
    "\n",
    "if u < lower or u > upper:\n",
    "    print(\"有意差あり\")\n",
    "else:\n",
    "    print(\"有意差なし\")"
   ],
   "metadata": {
    "collapsed": false,
    "pycharm": {
     "name": "#%%\n"
    }
   }
  },
  {
   "cell_type": "markdown",
   "source": [
    "# 検定の検証\n",
    "検定が正しいかどうかを検証するために、帰無仮説$H_0$が成り立つときの、"
   ],
   "metadata": {
    "collapsed": false
   }
  },
  {
   "cell_type": "code",
   "execution_count": 4,
   "outputs": [],
   "source": [
    "# 真のclick rate\n",
    "p1, p2 = 0.08, 0.08\n",
    "# サンプル数\n",
    "n1, n2 = 300, 400\n",
    "# 有意水準\n",
    "alpha = 0.05\n",
    "\n",
    "trial = 100000\n",
    "\n",
    "list_u = []\n",
    "for t in range(trial):\n",
    "    # 観測値\n",
    "    X = sp.stats.bernoulli.rvs(size=n1, p=p1)\n",
    "    Y = sp.stats.bernoulli.rvs(size=n2, p=p2)\n",
    "    p1_ = X.mean()\n",
    "    p2_ = Y.mean()\n",
    "    # 検定統計量\n",
    "    u = (p1_ - p2_) / np.sqrt(p1_*(1-p1_)/n1 + p2_*(1-p2_)/n2)\n",
    "    list_u.append(u)\n",
    "\n",
    "# 検定統計量が従う分布\n",
    "lower, upper = sp.stats.norm.interval(alpha=1-alpha)\n",
    "us = np.array(list_u)"
   ],
   "metadata": {
    "collapsed": false,
    "pycharm": {
     "name": "#%%\n"
    }
   }
  },
  {
   "cell_type": "code",
   "execution_count": 5,
   "outputs": [
    {
     "name": "stderr",
     "output_type": "stream",
     "text": [
      "C:\\Users\\laket\\Anaconda3\\envs\\halite\\lib\\site-packages\\seaborn\\distributions.py:2557: FutureWarning: `distplot` is a deprecated function and will be removed in a future version. Please adapt your code to use either `displot` (a figure-level function with similar flexibility) or `histplot` (an axes-level function for histograms).\n",
      "  warnings.warn(msg, FutureWarning)\n"
     ]
    },
    {
     "name": "stdout",
     "output_type": "stream",
     "text": [
      "棄却率: 0.04975\n"
     ]
    },
    {
     "data": {
      "text/plain": "<Figure size 432x288 with 1 Axes>",
      "image/png": "[encoded data removed]"
     },
     "metadata": {
      "needs_background": "light"
     },
     "output_type": "display_data"
    }
   ],
   "source": [
    "sns.distplot(us, label=\"sample\")\n",
    "# 検定統計量が従う分布\n",
    "plot_us = np.linspace(-4.5, 4.5, 300)\n",
    "density = sp.stats.norm.pdf(x=plot_us)\n",
    "\n",
    "plt.plot(plot_us, density, label=\"distribution\")\n",
    "drop_rate = ((us > upper) | (us < lower)).mean()\n",
    "print(f\"棄却率: {drop_rate}\")\n",
    "#print (f\"t:{t:.3f} lower:{lower:.3f} upper:{upper:.3f}\")"
   ],
   "metadata": {
    "collapsed": false,
    "pycharm": {
     "name": "#%%\n"
    }
   }
  },
  {
   "cell_type": "markdown",
   "source": [
    "# 検定力の導出\n",
    "\n",
    "対立仮説$H_1$が成り立つ状況下で、正しく$H_0$が棄却される確率$1-\\beta$を求める。\n",
    "\n",
    "この確率は、$p1, p2$の値に依存する。\n",
    "$p1$は既存のサイトの訪問率などで観測できることが多いが、\n",
    "$p2$は改修後のサイトの訪問率などに相当するため、事前に観測できないことが多い。\n",
    "\n",
    "決定するガイドライン存在する(サンプルサイズの決め方p33)が、今回は$p2$を期待する訪問率として与える。"
   ],
   "metadata": {
    "collapsed": false,
    "pycharm": {
     "name": "#%% md\n"
    }
   }
  },
  {
   "cell_type": "code",
   "execution_count": 6,
   "outputs": [
    {
     "name": "stdout",
     "output_type": "stream",
     "text": [
      "検出力: 0.5751195490802143\n"
     ]
    }
   ],
   "source": [
    "# 真のclick rate\n",
    "p1, p2 = 0.23, 0.18\n",
    "n1, n2 = 600, 600\n",
    "alpha = 0.05\n",
    "\n",
    "mu = (p1 - p2) / np.sqrt(p1*(1-p1)/n1+p2*(1-p2)/n2)\n",
    "model = sp.stats.norm(loc=mu)\n",
    "lower, upper = sp.stats.norm.interval(alpha=1-alpha)\n",
    "power = 1 - (model.cdf(upper) - model.cdf(lower))\n",
    "\n",
    "print (f\"検出力: {power}\")"
   ],
   "metadata": {
    "collapsed": false,
    "pycharm": {
     "name": "#%%\n"
    }
   }
  },
  {
   "cell_type": "markdown",
   "source": [
    "# 検出力の検証\n",
    "実際に対立仮説が成り立つ状況の棄却される割合を計算する。"
   ],
   "metadata": {
    "collapsed": false,
    "pycharm": {
     "name": "#%% md\n"
    }
   }
  },
  {
   "cell_type": "code",
   "execution_count": null,
   "outputs": [],
   "source": [
    "trial = 1000000\n",
    "\n",
    "list_u = []\n",
    "for t in range(trial):\n",
    "    # 観測値\n",
    "    X = sp.stats.bernoulli.rvs(size=n1, p=p1)\n",
    "    Y = sp.stats.bernoulli.rvs(size=n2, p=p2)\n",
    "    p1_ = X.mean()\n",
    "    p2_ = Y.mean()\n",
    "    # 検定統計量\n",
    "    u = (p1_ - p2_) / np.sqrt(p1_*(1-p1_)/n1 + p2_*(1-p2_)/n2)\n",
    "    list_u.append(u)\n",
    "\n",
    "# 検定統計量が従う分布\n",
    "lower, upper = sp.stats.norm.interval(alpha=1-alpha)\n",
    "us = np.array(list_u)\n",
    "\n",
    "sns.distplot(us, label=\"sample\")\n",
    "# 検定統計量が従う分布\n",
    "plot_us = np.linspace(-4.5, 4.5, 300)\n",
    "density = sp.stats.norm.pdf(x=plot_us)\n",
    "\n",
    "plt.plot(plot_us, density, label=\"distribution\")\n",
    "drop_rate = ((us > upper) | (us < lower)).mean()\n",
    "print(f\"棄却率: {drop_rate}\")"
   ],
   "metadata": {
    "collapsed": false,
    "pycharm": {
     "name": "#%%\n",
     "is_executing": true
    }
   }
  },
  {
   "cell_type": "markdown",
   "source": [
    "# サンプルサイズの計算\n",
    "検出力が基準(power=0.8)に達するサンプルサイズを求めて、必要サンプルサイズとする。\n",
    "近似式が立てられるかもしれないが二分探索で求める。"
   ],
   "metadata": {
    "collapsed": false,
    "pycharm": {
     "name": "#%% md\n"
    }
   }
  },
  {
   "cell_type": "code",
   "execution_count": null,
   "outputs": [],
   "source": [
    "# 真のclick rate\n",
    "p1, p2 = 0.12, 0.132\n",
    "\n",
    "alpha = 0.1\n",
    "\n",
    "def calc_power(n):\n",
    "    mu = (p1 - p2) / np.sqrt(p1*(1-p1)/n+p2*(1-p2)/n)\n",
    "    model = sp.stats.norm(loc=mu)\n",
    "    lower, upper = sp.stats.norm.interval(alpha=1-alpha)\n",
    "    power = 1 - (model.cdf(upper) - model.cdf(lower))\n",
    "    return power\n",
    "\n",
    "lower = 10\n",
    "upper = 100000\n",
    "target_power = 0.8\n",
    "sample = None\n",
    "prev_sample = None\n",
    "\n",
    "while True:\n",
    "    prev_sample = sample\n",
    "    sample = int((lower+upper) / 2)\n",
    "\n",
    "    if prev_sample == sample:\n",
    "        break\n",
    "\n",
    "    cur_power = calc_power(sample)\n",
    "\n",
    "    print (f\"sample: {sample} power: {cur_power}\")\n",
    "\n",
    "    if cur_power > target_power:\n",
    "        upper = sample\n",
    "    else:\n",
    "        lower = sample\n"
   ],
   "metadata": {
    "collapsed": false,
    "pycharm": {
     "name": "#%%\n",
     "is_executing": true
    }
   }
  },
  {
   "cell_type": "markdown",
   "source": [
    "# Qiita用のコード"
   ],
   "metadata": {
    "collapsed": false,
    "pycharm": {
     "name": "#%% md\n"
    }
   }
  },
  {
   "cell_type": "code",
   "execution_count": null,
   "outputs": [],
   "source": [
    "def test(X, Y, alpha):\n",
    "    p1_ = X.mean()\n",
    "    p2_ = Y.mean()\n",
    "    u = (p1_ - p2_) / np.sqrt(p1_*(1-p1_)/n1 + p2_*(1-p2_)/n2)\n",
    "    # 検定統計量が従う分布\n",
    "    lower, upper = sp.stats.norm.interval(alpha=1-alpha)\n",
    "\n",
    "    if u < lower or u > upper:\n",
    "        return True\n",
    "    else:\n",
    "        return False\n",
    "\n",
    "# 真のclick rate\n",
    "p1, p2 = 0.08, 0.10\n",
    "# サンプル数\n",
    "n1, n2 = 400, 400\n",
    "res = []\n",
    "for i in range(100000):\n",
    "    X = sp.stats.bernoulli.rvs(size=n1, p=p1)\n",
    "    Y = sp.stats.bernoulli.rvs(size=n2, p=p2)\n",
    "    res.append(test(X, Y, alpha=0.05))\n",
    "\n",
    "print(f\"棄却率: {np.mean(res)}\")"
   ],
   "metadata": {
    "collapsed": false,
    "pycharm": {
     "name": "#%%\n",
     "is_executing": true
    }
   }
  },
  {
   "cell_type": "code",
   "execution_count": null,
   "outputs": [],
   "source": [
    "p1, p2 = 0.08, 0.10\n",
    "n1, n2 = 400, 400\n",
    "alpha = 0.05\n",
    "\n",
    "def power(p1, p2, n1, n2, alpha):\n",
    "    u = (p1 - p2) / np.sqrt(p1*(1-p1)/n1+p2*(1-p2)/n2)\n",
    "    model = sp.stats.norm(loc=u)\n",
    "    lower, upper = sp.stats.norm.interval(alpha=1-alpha)\n",
    "    power = 1 - (model.cdf(upper) - model.cdf(lower))\n",
    "\n",
    "    #print (f\"検出力: {power:.5f}\")\n",
    "    return power\n",
    "\n",
    "power(p1, p2, n1, n2, alpha)"
   ],
   "metadata": {
    "collapsed": false,
    "pycharm": {
     "name": "#%%\n",
     "is_executing": true
    }
   }
  },
  {
   "cell_type": "code",
   "execution_count": null,
   "outputs": [],
   "source": [
    "lower_n, upper_n = 10, 100000\n",
    "alpha = 0.05\n",
    "target_power = 0.8\n",
    "p1 = 0.08\n",
    "p2 = 0.10\n",
    "\n",
    "while True:\n",
    "    n = int((lower_n + upper_n) / 2)\n",
    "    p = power(p1, p2, n, n, alpha)\n",
    "    if p > target_power:\n",
    "        upper_n = n\n",
    "    else:\n",
    "        lower_n = n\n",
    "    if (upper_n - lower_n) <= 1:\n",
    "        break\n",
    "\n",
    "print (f\"必要サンプルサイズ: {upper_n}\")"
   ],
   "metadata": {
    "collapsed": false,
    "pycharm": {
     "name": "#%%\n",
     "is_executing": true
    }
   }
  },
  {
   "cell_type": "code",
   "execution_count": null,
   "outputs": [],
   "source": [],
   "metadata": {
    "collapsed": false,
    "pycharm": {
     "name": "#%%\n",
     "is_executing": true
    }
   }
  }
 ],
 "metadata": {
  "kernelspec": {
   "display_name": "Python 3",
   "language": "python",
   "name": "python3"
  },
  "language_info": {
   "codemirror_mode": {
    "name": "ipython",
    "version": 2
   },
   "file_extension": ".py",
   "mimetype": "text/x-python",
   "name": "python",
   "nbconvert_exporter": "python",
   "pygments_lexer": "ipython2",
   "version": "2.7.6"
  }
 },
 "nbformat": 4,
 "nbformat_minor": 0
}